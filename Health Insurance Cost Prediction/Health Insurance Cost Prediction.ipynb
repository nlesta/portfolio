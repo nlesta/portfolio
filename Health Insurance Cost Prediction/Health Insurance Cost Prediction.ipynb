{
 "cells": [
  {
   "cell_type": "markdown",
   "id": "6864d460",
   "metadata": {},
   "source": [
    "## Health Insurance Cost Prediction"
   ]
  },
  {
   "cell_type": "markdown",
   "id": "b3cfadd5",
   "metadata": {},
   "source": [
    "In this data science project, the goal is to predict health insurance charges for patients based on various factors such as age,  BMI, number of children, sex, smoking status, and region. The dataset provides valuable insights into the factors influencing healthcare costs, enabling us to build a predictive model that can assist in estimating charges for new patients."
   ]
  },
  {
   "cell_type": "markdown",
   "id": "132b6fd5",
   "metadata": {},
   "source": [
    "We can begin by importing the necessary libraries for this project. I will also load in our data and convert it to a pandas dataframe."
   ]
  },
  {
   "cell_type": "code",
   "execution_count": 1,
   "id": "7c614c56",
   "metadata": {},
   "outputs": [],
   "source": [
    "import pandas as pd\n",
    "from scipy.stats import zscore\n",
    "import sqlite3\n",
    "from sklearn.model_selection import train_test_split\n",
    "from sklearn.linear_model import LinearRegression\n",
    "from sklearn.metrics import r2_score, mean_squared_error\n",
    "csv_file_path = 'C:\\\\Users\\\\nicho\\\\OneDrive\\\\Documents\\\\Projects\\\\portfolio\\\\Health Insurance Cost Prediction\\\\insurance.csv'\n",
    "charges_df = pd.read_csv(csv_file_path)"
   ]
  },
  {
   "cell_type": "markdown",
   "id": "8685e692",
   "metadata": {},
   "source": [
    "An important aspect of any data science project is preprocessing your data. Let's first ensure there are no missing values."
   ]
  },
  {
   "cell_type": "code",
   "execution_count": 2,
   "id": "006750d7",
   "metadata": {},
   "outputs": [
    {
     "name": "stdout",
     "output_type": "stream",
     "text": [
      "age         0\n",
      "sex         0\n",
      "bmi         0\n",
      "children    0\n",
      "smoker      0\n",
      "region      0\n",
      "charges     0\n",
      "dtype: int64\n"
     ]
    }
   ],
   "source": [
    "print(charges_df.isnull().sum())"
   ]
  },
  {
   "cell_type": "markdown",
   "id": "b839eb2f",
   "metadata": {},
   "source": [
    "This shows we have no missing values and can proceed with checking how our data is formatted."
   ]
  },
  {
   "cell_type": "code",
   "execution_count": 3,
   "id": "000765fc",
   "metadata": {},
   "outputs": [
    {
     "name": "stdout",
     "output_type": "stream",
     "text": [
      "age           int64\n",
      "sex          object\n",
      "bmi         float64\n",
      "children      int64\n",
      "smoker       object\n",
      "region       object\n",
      "charges     float64\n",
      "dtype: object\n"
     ]
    }
   ],
   "source": [
    "column_types = charges_df.dtypes\n",
    "print(column_types)"
   ]
  },
  {
   "cell_type": "markdown",
   "id": "8d2d6b87",
   "metadata": {},
   "source": [
    "The data appears to be formatted properly, however we often run into issues with singular values or desire different formats. Let's confirm our columns are consistent."
   ]
  },
  {
   "cell_type": "code",
   "execution_count": 4,
   "id": "30f8f680",
   "metadata": {},
   "outputs": [],
   "source": [
    "charges_df['age'] = charges_df['age'].astype(int)\n",
    "charges_df['sex'] = charges_df['sex'].astype(object)\n",
    "charges_df['bmi'] = charges_df['bmi'].astype(float)\n",
    "charges_df['children'] = charges_df['children'].astype(int)\n",
    "charges_df['smoker'] = charges_df['smoker'].astype(object)\n",
    "charges_df['region'] = charges_df['region'].astype(object)\n",
    "charges_df['charges'] = charges_df['charges'].astype(float)"
   ]
  },
  {
   "cell_type": "markdown",
   "id": "424d6f09",
   "metadata": {},
   "source": [
    "Next, I want to check for any duplicate values."
   ]
  },
  {
   "cell_type": "code",
   "execution_count": 5,
   "id": "5c8d03c3",
   "metadata": {},
   "outputs": [
    {
     "name": "stdout",
     "output_type": "stream",
     "text": [
      "Number of observations: 1338\n",
      "Number of observations: 1337\n"
     ]
    }
   ],
   "source": [
    "print('Number of observations: ' + str(len(charges_df)))\n",
    "charges_df.drop_duplicates(inplace=True)\n",
    "print('Number of observations: ' + str(len(charges_df)))"
   ]
  },
  {
   "cell_type": "markdown",
   "id": "239e9d7e",
   "metadata": {},
   "source": [
    "It appears we did have one duplicate value! This value has been dropped so as to not alter our data exploration. I also want to remove some outliers so there is a more representative mean. This code removes any outliers that are more than 4 standard deviations from the mean for the numerical values in the dataset."
   ]
  },
  {
   "cell_type": "code",
   "execution_count": 6,
   "id": "e8359feb",
   "metadata": {},
   "outputs": [
    {
     "name": "stdout",
     "output_type": "stream",
     "text": [
      "Number of observations: 1337\n",
      "Number of observations: 1335\n"
     ]
    }
   ],
   "source": [
    "print('Number of observations: ' + str(len(charges_df)))\n",
    "z_scores = zscore(charges_df[['age', 'bmi', 'children', 'charges']])\n",
    "charges_df = charges_df[(z_scores < 4).all(axis=1)]\n",
    "print('Number of observations: ' + str(len(charges_df)))"
   ]
  },
  {
   "cell_type": "markdown",
   "id": "235cef0b",
   "metadata": {},
   "source": [
    "As we can see, we removed 2 values that were classified as outliers. Let's find out what rows were deleted."
   ]
  },
  {
   "cell_type": "code",
   "execution_count": 7,
   "id": "4079d7a7",
   "metadata": {},
   "outputs": [
    {
     "name": "stdout",
     "output_type": "stream",
     "text": [
      "      age     sex    bmi  children smoker     region      charges     _merge\n",
      "544    54  female  47.41         0    yes  southeast  63770.42801  left_only\n",
      "1300   45    male  30.36         0    yes  southeast  62592.87309  left_only\n"
     ]
    }
   ],
   "source": [
    "orig_charges_df = pd.read_csv(csv_file_path)\n",
    "merged_df = orig_charges_df.merge(charges_df, how='outer', indicator=True).loc[lambda x: x['_merge'] == 'left_only']\n",
    "print(merged_df)"
   ]
  },
  {
   "cell_type": "markdown",
   "id": "2ef64dda",
   "metadata": {},
   "source": [
    "This table demonstrates the outliers being those with very high medical charges (no age/bmi outliers). The last modification I want to make to the data is to add some categorical variables to better group the observations, as well as add an age group column."
   ]
  },
  {
   "cell_type": "code",
   "execution_count": 8,
   "id": "a062f4e8",
   "metadata": {},
   "outputs": [
    {
     "name": "stdout",
     "output_type": "stream",
     "text": [
      "Our new columns are: age, bmi, children, charges, sex_female, sex_male, smoker_no, smoker_yes, region_northeast, region_northwest, region_southeast, region_southwest, age_group\n"
     ]
    }
   ],
   "source": [
    "charges_df = pd.get_dummies(charges_df, columns=['sex', 'smoker', 'region'], drop_first=False)\n",
    "charges_df['age_group'] = pd.cut(charges_df['age'], bins=[0, 26, 42, 58, 100], labels=['Generation Z', 'Millenial', 'Generation X', 'Baby Boomer'])\n",
    "print('Our new columns are: ' + ', '.join(charges_df.columns))"
   ]
  },
  {
   "cell_type": "markdown",
   "id": "961bc9fa",
   "metadata": {},
   "source": [
    "I'm now going to drop a few redundant columns, such as sex_male considering we have sex_female and it is binary."
   ]
  },
  {
   "cell_type": "code",
   "execution_count": 9,
   "id": "4c945812",
   "metadata": {},
   "outputs": [],
   "source": [
    "charges_df = charges_df.drop(columns=['sex_male', 'smoker_no'])"
   ]
  },
  {
   "cell_type": "markdown",
   "id": "dd244b3d",
   "metadata": {},
   "source": [
    "Now I will run some basic SQL queries just to get a sense of the data. We can start by setting up our SQL database."
   ]
  },
  {
   "cell_type": "code",
   "execution_count": 10,
   "id": "b3817a30",
   "metadata": {},
   "outputs": [
    {
     "data": {
      "text/plain": [
       "1335"
      ]
     },
     "execution_count": 10,
     "metadata": {},
     "output_type": "execute_result"
    }
   ],
   "source": [
    "conn = sqlite3.connect(':memory:')\n",
    "charges_df.to_sql('charges_table', conn, index=False, if_exists='replace')"
   ]
  },
  {
   "cell_type": "markdown",
   "id": "ce68b300",
   "metadata": {},
   "source": [
    "What are our top 5 highest charges?"
   ]
  },
  {
   "cell_type": "code",
   "execution_count": 11,
   "id": "cdd0bb6e",
   "metadata": {},
   "outputs": [
    {
     "name": "stdout",
     "output_type": "stream",
     "text": [
      "       charges\n",
      "0  60021.39897\n",
      "1  58571.07448\n",
      "2  55135.40209\n",
      "3  52590.82939\n",
      "4  51194.55914\n"
     ]
    }
   ],
   "source": [
    "query = '''\n",
    "        SELECT charges \n",
    "        FROM charges_table \n",
    "        ORDER BY charges DESC \n",
    "        LIMIT 5'''\n",
    "result_df = pd.read_sql_query(query, conn)\n",
    "print(result_df)"
   ]
  },
  {
   "cell_type": "markdown",
   "id": "97242d70",
   "metadata": {},
   "source": [
    "Does age group seem to impact charges?"
   ]
  },
  {
   "cell_type": "code",
   "execution_count": 12,
   "id": "371df7e2",
   "metadata": {},
   "outputs": [
    {
     "name": "stdout",
     "output_type": "stream",
     "text": [
      "      age_group   avg_charges\n",
      "0   Baby Boomer  20824.972901\n",
      "1  Generation X  15741.348066\n",
      "2     Millenial  11460.191605\n",
      "3  Generation Z   8861.064212\n"
     ]
    }
   ],
   "source": [
    "query = '''\n",
    "        SELECT age_group, AVG(charges) AS avg_charges\n",
    "        FROM charges_table \n",
    "        GROUP BY age_group \n",
    "        ORDER BY avg_charges DESC'''\n",
    "result_df = pd.read_sql_query(query, conn)\n",
    "print(result_df)"
   ]
  },
  {
   "cell_type": "markdown",
   "id": "cb02609b",
   "metadata": {},
   "source": [
    "What about smoker status?"
   ]
  },
  {
   "cell_type": "code",
   "execution_count": 13,
   "id": "5b2783c4",
   "metadata": {},
   "outputs": [
    {
     "name": "stdout",
     "output_type": "stream",
     "text": [
      "   smoker   avg_charges\n",
      "0       0   8440.660307\n",
      "1       1  31821.324341\n"
     ]
    }
   ],
   "source": [
    "query = '''\n",
    "        SELECT smoker_yes AS smoker, AVG(charges) AS avg_charges \n",
    "        FROM charges_table \n",
    "        GROUP BY smoker'''\n",
    "result_df = pd.read_sql_query(query, conn)\n",
    "print(result_df)"
   ]
  },
  {
   "cell_type": "markdown",
   "id": "9239fd63",
   "metadata": {},
   "source": [
    "We have our region data. Is there an equal representation from every region in the US?"
   ]
  },
  {
   "cell_type": "code",
   "execution_count": 14,
   "id": "0df2948f",
   "metadata": {},
   "outputs": [
    {
     "name": "stdout",
     "output_type": "stream",
     "text": [
      "   count_southwest  count_northwest  count_southeast  count_northeast\n",
      "0              325              324              362              324\n"
     ]
    }
   ],
   "source": [
    "query = '''\n",
    "        SELECT\n",
    "        SUM(CASE WHEN region_southwest = 1 THEN 1 ELSE 0 END) AS count_southwest,\n",
    "        SUM(CASE WHEN region_northwest = 1 THEN 1 ELSE 0 END) AS count_northwest,\n",
    "        SUM(CASE WHEN region_southeast = 1 THEN 1 ELSE 0 END) AS count_southeast,\n",
    "        SUM(CASE WHEN region_northeast = 1 THEN 1 ELSE 0 END) AS count_northeast\n",
    "        FROM charges_table'''\n",
    "result_df = pd.read_sql_query(query, conn)\n",
    "print(result_df)"
   ]
  },
  {
   "cell_type": "markdown",
   "id": "855872c0",
   "metadata": {},
   "source": [
    "Some takeaways from our queries: \n",
    "- Our highest charges are in the 50-60k range\n",
    "- Charges go up significantly with both age group and smoker status.\n",
    "- It appears we have roughly the same number of observations from every region. Additionally, each region is represented enough to draw conclusions from.\n",
    "Let's now take a look at correlations to confirm our suspicions about how some of our features may be impacting charges."
   ]
  },
  {
   "cell_type": "code",
   "execution_count": 15,
   "id": "fe95d833",
   "metadata": {},
   "outputs": [
    {
     "name": "stdout",
     "output_type": "stream",
     "text": [
      "charges             1.000000\n",
      "smoker_yes          0.787422\n",
      "age                 0.297719\n",
      "bmi                 0.192984\n",
      "children            0.073998\n",
      "region_southeast    0.064434\n",
      "region_northeast    0.009563\n",
      "region_northwest   -0.035667\n",
      "region_southwest   -0.040668\n",
      "sex_female         -0.058976\n",
      "Name: charges, dtype: float64\n"
     ]
    },
    {
     "name": "stderr",
     "output_type": "stream",
     "text": [
      "C:\\Users\\nicho\\AppData\\Local\\Temp\\ipykernel_18244\\1118106024.py:1: FutureWarning: The default value of numeric_only in DataFrame.corr is deprecated. In a future version, it will default to False. Select only valid columns or specify the value of numeric_only to silence this warning.\n",
      "  print(charges_df.corr()['charges'].sort_values(ascending=False))\n"
     ]
    }
   ],
   "source": [
    "print(charges_df.corr()['charges'].sort_values(ascending=False))"
   ]
  },
  {
   "cell_type": "markdown",
   "id": "8741a9f0",
   "metadata": {},
   "source": [
    "As we can see, smoker status, age, and BMI all have positive correlations with our charges variables, albeit to varying magnitudes. For a final check before we begin to build any models, let's make sure we have enough observations for these binary variables ie. smoker_yes and sex_female."
   ]
  },
  {
   "cell_type": "code",
   "execution_count": 16,
   "id": "9d5367ea",
   "metadata": {},
   "outputs": [
    {
     "name": "stdout",
     "output_type": "stream",
     "text": [
      "Number of smokers: 272, Number of non-smokers: 1063\n",
      "Number of females: 661, Number of males: 674\n"
     ]
    }
   ],
   "source": [
    "count_smokers = charges_df['smoker_yes'].sum()\n",
    "count_non_smokers = len(charges_df) - count_smokers\n",
    "print('Number of smokers: ' + str(count_smokers) + ', Number of non-smokers: ' + str(count_non_smokers))\n",
    "count_females = charges_df['sex_female'].sum()\n",
    "count_males = len(charges_df) - count_females\n",
    "print('Number of females: ' + str(count_females) + ', Number of males: ' + str(count_males))"
   ]
  },
  {
   "cell_type": "markdown",
   "id": "56cbcd05",
   "metadata": {},
   "source": [
    "Our male to female ratio is exceptional, however I do think we have an underrepresentation of smokers (20% of the data). Let's address this problem before building out our model, so as to not introduce any bias to our highest correlation variable. First, let's split our data into training and testing data for our regression model. We can address the bias later. We need to drop age_group now, as it isn't numerical and therefore cannot be run in a regression. If we wanted to, we could repeat the same process as regions using bins, however this is a bit redundant with our age variable already being included in the data."
   ]
  },
  {
   "cell_type": "code",
   "execution_count": 17,
   "id": "294f659b",
   "metadata": {},
   "outputs": [
    {
     "name": "stdout",
     "output_type": "stream",
     "text": [
      "Number of smokers: 216, Number of non-smokers: 852\n"
     ]
    }
   ],
   "source": [
    "X = charges_df.drop(['age_group', 'charges'], axis=1)\n",
    "y = charges_df['charges']\n",
    "X_train, X_test, y_train, y_test = train_test_split(X, y, test_size=0.2, random_state=6)\n",
    "train_charges_df = pd.concat([X_train, y_train], axis=1)\n",
    "count_smokers = train_charges_df['smoker_yes'].sum()\n",
    "count_non_smokers = len(train_charges_df) - count_smokers\n",
    "print('Number of smokers: ' + str(count_smokers) + ', Number of non-smokers: ' + str(count_non_smokers))"
   ]
  },
  {
   "cell_type": "markdown",
   "id": "08f05ca2",
   "metadata": {},
   "source": [
    "I have decided to perform undersampling here, as bringing the number of non-smokers to 216 keeps us well above the 30 observations per feature guideline. We have 9 features so we need at a minimum 270 observations, and we would have 432 in total. Another methodology for addressing our smoker to non-smoker ratio is oversampling, which could be accomplished using SMOTE, however this is a bit beyond the scope of this project."
   ]
  },
  {
   "cell_type": "code",
   "execution_count": 18,
   "id": "fed80c25",
   "metadata": {},
   "outputs": [],
   "source": [
    "nonsmokers_train_df = train_charges_df[train_charges_df['smoker_yes'] == 0]\n",
    "random_sample = nonsmokers_train_df.sample(n=216, random_state=6)\n",
    "unbiased_train_charges_df = pd.concat([train_charges_df[train_charges_df['smoker_yes'] == 1], random_sample], axis=0)\n",
    "new_X_train = unbiased_train_charges_df.drop('charges', axis=1)\n",
    "new_y_train = unbiased_train_charges_df['charges']"
   ]
  },
  {
   "cell_type": "markdown",
   "id": "96f60c60",
   "metadata": {},
   "source": [
    "Finally, let's run our model and determine how our features interact with charges."
   ]
  },
  {
   "cell_type": "code",
   "execution_count": 19,
   "id": "fa912603",
   "metadata": {},
   "outputs": [
    {
     "name": "stdout",
     "output_type": "stream",
     "text": [
      "Our r-squared is: 0.701 and our adjusted r-squared is: 0.69\n",
      "Our root-mean-square error is: 6534.66\n",
      "Our variables and their associated coefficients:\n",
      "smoker_yes: 24070.41\n",
      "region_northeast: 1074.55\n",
      "bmi: 746.13\n",
      "sex_female: 351.25\n",
      "children: 266.69\n",
      "age: 265.84\n",
      "region_southwest: -72.56\n",
      "region_northwest: -190.46\n",
      "region_southeast: -811.54\n",
      "Our intercept is: -25516.54\n",
      "Our intercept is: -25516.54\n"
     ]
    }
   ],
   "source": [
    "model = LinearRegression()\n",
    "model.fit(new_X_train, new_y_train)\n",
    "y_pred = model.predict(X_test)\n",
    "r2 = r2_score(y_test, y_pred)\n",
    "n = X_test.shape[0]\n",
    "p = X_test.shape[1]\n",
    "adj_r2 = 1 - ((1 - r2) * (n - 1)) / (n - p - 1)\n",
    "rmse = mean_squared_error(y_test, y_pred, squared=False)\n",
    "coefficients = model.coef_\n",
    "intercept = model.intercept_\n",
    "print('Our r-squared is: ' + str(round(r2, 3)) + ' and our adjusted r-squared is: ' + str(round(adj_r2, 3)))\n",
    "print('Our root-mean-square error is: ' + str(round(rmse, 2)))\n",
    "variable_coef = list(sorted(zip(X_train.columns, coefficients), key=lambda x: x[1], reverse=True))\n",
    "print('Our variables and their associated coefficients:')\n",
    "for variable, coefficient in variable_coef:\n",
    "    print(f\"{variable}: {round(coefficient, 2)}\")\n",
    "print('Our intercept is: ' + str(round(intercept, 2)))\n",
    "print(f'Our intercept is: {round(intercept, 2)}')"
   ]
  },
  {
   "cell_type": "markdown",
   "id": "5bbcead5",
   "metadata": {},
   "source": [
    "Our model demonstrates a moderate level of predictive power, as indicated by an R-squared of 0.701 and an adjusted R-squared of 0.69. The root-mean-square error (RMSE) stands at 6534.66, reflecting the average magnitude of the residuals. Examining the variable coefficients, being a smoker has a substantial positive impact on predicted charges, contributing 24070.41 to the estimate. Other influential variables include region (specifically northeast) and BMI. The intercept, representing the estimated charges when all predictors are zero, is -25516.54."
   ]
  }
 ],
 "metadata": {
  "kernelspec": {
   "display_name": "Python 3 (ipykernel)",
   "language": "python",
   "name": "python3"
  },
  "language_info": {
   "codemirror_mode": {
    "name": "ipython",
    "version": 3
   },
   "file_extension": ".py",
   "mimetype": "text/x-python",
   "name": "python",
   "nbconvert_exporter": "python",
   "pygments_lexer": "ipython3",
   "version": "3.10.9"
  }
 },
 "nbformat": 4,
 "nbformat_minor": 5
}
